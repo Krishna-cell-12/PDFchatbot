{
  "cells": [
    {
      "cell_type": "code",
      "execution_count": 5,
      "metadata": {
        "colab": {
          "base_uri": "https://localhost:8080/"
        },
        "id": "xDCROohhJtOY",
        "outputId": "60af1669-ccee-4c71-af43-92841eedd7f2"
      },
      "outputs": [
        {
          "name": "stdout",
          "output_type": "stream",
          "text": [
            "Requirement already satisfied: PyPDF2 in /usr/local/lib/python3.10/dist-packages (3.0.1)\n"
          ]
        }
      ],
      "source": [
        "pip install PyPDF2"
      ]
    },
    {
      "cell_type": "code",
      "execution_count": 10,
      "metadata": {
        "colab": {
          "base_uri": "https://localhost:8080/"
        },
        "id": "HxxemkDiIpAy",
        "outputId": "3feefb37-bbef-4a9b-9d55-336d41b63def"
      },
      "outputs": [
        {
          "name": "stdout",
          "output_type": "stream",
          "text": [
            "Chat with your PDF! Type 'exit' to quit.\n",
            "You: probability\n",
            " \n",
            "PDF Bot: Here's what I found: \n",
            "PROBABILITY\n",
            "2024-25\n",
            "\n",
            "--- Page 2 ---\n",
            "290 MATHEMA TICS\n",
            "14.1.1   Occurrence of an event   Consider the experiment of throwing a die. Let E\n",
            "denotes the event “ a number  less than 4 appears”. If actually ‘1’ had appeared on the\n",
            "die then we say that event E has occurred. As a matter of fact if outcomes are 2 or 3,\n",
            "we say that event E has occurred\n",
            "Thus, the event E of a sample space S is said to have occurred if the outcome\n",
            "ωof the experiment is such that ω∈ E. If the outcome ω is such that ω ∉ E, we ...\n",
            "\n",
            "You: Range\n",
            " \n",
            "PDF Bot: Here's what I found: \n",
            "range is the interval [0,1]\n",
            "satisfying the following axioms\n",
            "(i)For any event E,  P  (E) ≥0 (ii) P (S) = 1\n",
            "(iii) If E and F are mutually exclusive events, then P(E ∪ F) = P(E) + P(F).\n",
            "It follows from (iii) that P( φ) = 0. To prove this, we take F = φ and note that E and φ\n",
            "are disjoint events. Therefore, from axiom (iii), we get\n",
            "P (E ∪ φ) = P (E) + P ( φ)or P(E) = P(E) + P ( φ) i.e. P ( φ) = 0.\n",
            "Let S be a sample space containing outcomes 1 2, ,...,n ω ω ω , i.e.,\n",
            "S = { ω1, ω2, ..., ωn}\n",
            "It follows ...\n",
            "\n",
            "You: Domain\n",
            " \n",
            "PDF Bot: Here's what I found: \n",
            "domain is the power set of S and range is the interval [0,1]\n",
            "satisfying the following axioms\n",
            "(i)For any event E,  P  (E) ≥0 (ii) P (S) = 1\n",
            "(iii) If E and F are mutually exclusive events, then P(E ∪ F) = P(E) + P(F).\n",
            "It follows from (iii) that P( φ) = 0. To prove this, we take F = φ and note that E and φ\n",
            "are disjoint events. Therefore, from axiom (iii), we get\n",
            "P (E ∪ φ) = P (E) + P ( φ)or P(E) = P(E) + P ( φ) i.e. P ( φ) = 0.\n",
            "Let S be a sample space containing outcomes 1 2, ,...,n ω ω ω , i.e.,\n",
            "S...\n",
            "\n",
            "You: exit\n",
            " \n",
            "Chat ended. Goodbye!\n"
          ]
        }
      ],
      "source": [
        "import PyPDF2\n",
        "import re\n",
        "from pathlib import Path\n",
        "\n",
        "def read_pdf(file_path):\n",
        "    \"\"\"Read PDF and return a list of tuples containing page number and text.\"\"\"\n",
        "    try:\n",
        "        with open(file_path, 'rb') as pdf_file:\n",
        "            reader = PyPDF2.PdfReader(pdf_file)\n",
        "            pdf_content_by_page = []\n",
        "            for page_num, page in enumerate(reader.pages):\n",
        "                page_text = page.extract_text() or \"[No text found on this page]\"\n",
        "                pdf_content_by_page.append((page_num + 1, page_text))\n",
        "            return pdf_content_by_page\n",
        "    except FileNotFoundError:\n",
        "        return \"Error: File not found. Please check the file path.\"\n",
        "    except Exception as e:\n",
        "        return f\"An error occurred: {e}\"\n",
        "\n",
        "def highlight_query(snippet, query):\n",
        "    \"\"\"Highlight the query in the snippet.\"\"\"\n",
        "    highlighted = re.sub(f\"({re.escape(query)})\", r\"\\033[1;32m\\1\\033[0m\", snippet, flags=re.IGNORECASE)\n",
        "    return highlighted\n",
        "\n",
        "def search_query(content_by_page, query):\n",
        "    \"\"\"Search for the query in the PDF and return snippets with page numbers.\"\"\"\n",
        "    results = []\n",
        "    for page_num, page_text in content_by_page:\n",
        "        matches = [m.start() for m in re.finditer(re.escape(query), page_text, re.IGNORECASE)]\n",
        "        for start_idx in matches:\n",
        "            snippet = page_text[max(0, start_idx - 100):start_idx + 400]\n",
        "            highlighted_snippet = highlight_query(snippet, query)\n",
        "            results.append((page_num, highlighted_snippet))\n",
        "    return results\n",
        "\n",
        "def chat_with_pdf(content_by_page):\n",
        "    \"\"\"Chatbot interface for querying the PDF.\"\"\"\n",
        "    print(\"Chat with your PDF! Type 'exit' to quit.\")\n",
        "    while True:\n",
        "        user_query = input(\"\\nYou: \").strip()\n",
        "        if user_query.lower() == 'exit':\n",
        "            print(\"Chat ended. Goodbye!\")\n",
        "            break\n",
        "        elif user_query:\n",
        "            results = search_query(content_by_page, user_query)\n",
        "            if results:\n",
        "                for i, (page_num, snippet) in enumerate(results, 1):\n",
        "                    print(f\"\\nResult {i} (Page {page_num}):\\n{snippet}...\\n\")\n",
        "                    if i % 3 == 0:  # Pause after every 3 results\n",
        "                        cont = input(\"Type 'more' to see more results or press Enter to stop: \").strip().lower()\n",
        "                        if cont != 'more':\n",
        "                            break\n",
        "            else:\n",
        "                print(\"PDF Bot: Sorry, I couldn't find anything related to your query in the document.\")\n",
        "        else:\n",
        "            print(\"PDF Bot: Please enter a valid query.\")\n",
        "\n",
        "if __name__ == \"__main__\":\n",
        "    file_path = input(\"Enter the path to the PDF file: \").strip()\n",
        "    if not Path(file_path).exists():\n",
        "        print(\"Error: File not found. Please check the file path.\")\n",
        "    else:\n",
        "        pdf_content_by_page = read_pdf(file_path)\n",
        "        if isinstance(pdf_content_by_page, str) and \"Error\" in pdf_content_by_page:\n",
        "            print(pdf_content_by_page)\n",
        "        else:\n",
        "            chat_with_pdf(pdf_content_by_page)"
      ]
    }
  ],
  "metadata": {
    "colab": {
      "provenance": []
    },
    "kernelspec": {
      "display_name": "Python 3",
      "name": "python3"
    },
    "language_info": {
      "name": "python"
    }
  },
  "nbformat": 4,
  "nbformat_minor": 0
}
