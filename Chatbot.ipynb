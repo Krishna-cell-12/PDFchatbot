{
  "cells": [
    {
      "cell_type": "code",
      "source": [
        "pip install PyPDF2"
      ],
      "metadata": {
        "colab": {
          "base_uri": "https://localhost:8080/"
        },
        "id": "xDCROohhJtOY",
        "outputId": "60af1669-ccee-4c71-af43-92841eedd7f2"
      },
      "execution_count": 5,
      "outputs": [
        {
          "output_type": "stream",
          "name": "stdout",
          "text": [
            "Requirement already satisfied: PyPDF2 in /usr/local/lib/python3.10/dist-packages (3.0.1)\n"
          ]
        }
      ]
    },
    {
      "cell_type": "code",
      "source": [
        "import PyPDF2\n",
        "\n",
        "def read_pdf(file_path):\n",
        "    try:\n",
        "        with open(file_path, 'rb') as pdf_file:\n",
        "            reader = PyPDF2.PdfReader(pdf_file)\n",
        "            pdf_text = \"\"\n",
        "            for page_num, page in enumerate(reader.pages):\n",
        "                pdf_text += f\"\\n--- Page {page_num + 1} ---\\n\"\n",
        "                pdf_text += page.extract_text()\n",
        "            return pdf_text\n",
        "    except FileNotFoundError:\n",
        "        return \"Error: File not found. Please check the file path.\"\n",
        "    except Exception as e:\n",
        "        return f\"An error occurred: {e}\"\n",
        "\n",
        "def chat_with_pdf(content):\n",
        "    print(\"Chat with your PDF! Type 'exit' to quit.\")\n",
        "    while True:\n",
        "        user_query = input(\"You: \")\n",
        "        print(\" \")\n",
        "        if user_query.lower() == 'exit':\n",
        "            print(\"Chat ended. Goodbye!\")\n",
        "            break\n",
        "        else:\n",
        "            if user_query.lower() in content.lower():\n",
        "                start_idx = content.lower().find(user_query.lower())\n",
        "                snippet = content[start_idx:start_idx + 500]\n",
        "                print(f\"PDF Bot: Here's what I found: \\n{snippet}...\\n\")\n",
        "            else:\n",
        "                print(\"PDF Bot: Sorry, I couldn't find anything related to your query in the document.\")\n",
        "\n",
        "file_path = \"maths.pdf\"\n",
        "pdf_content = read_pdf(file_path)\n",
        "\n",
        "if \"Error\" not in pdf_content:\n",
        "    chat_with_pdf(pdf_content)\n",
        "else:\n",
        "    print(pdf_content)\n"
      ],
      "metadata": {
        "id": "HxxemkDiIpAy",
        "colab": {
          "base_uri": "https://localhost:8080/"
        },
        "outputId": "3feefb37-bbef-4a9b-9d55-336d41b63def"
      },
      "execution_count": 10,
      "outputs": [
        {
          "output_type": "stream",
          "name": "stdout",
          "text": [
            "Chat with your PDF! Type 'exit' to quit.\n",
            "You: probability\n",
            " \n",
            "PDF Bot: Here's what I found: \n",
            "PROBABILITY\n",
            "2024-25\n",
            "\n",
            "--- Page 2 ---\n",
            "290 MATHEMA TICS\n",
            "14.1.1   Occurrence of an event   Consider the experiment of throwing a die. Let E\n",
            "denotes the event “ a number  less than 4 appears”. If actually ‘1’ had appeared on the\n",
            "die then we say that event E has occurred. As a matter of fact if outcomes are 2 or 3,\n",
            "we say that event E has occurred\n",
            "Thus, the event E of a sample space S is said to have occurred if the outcome\n",
            "ωof the experiment is such that ω∈ E. If the outcome ω is such that ω ∉ E, we ...\n",
            "\n",
            "You: Range\n",
            " \n",
            "PDF Bot: Here's what I found: \n",
            "range is the interval [0,1]\n",
            "satisfying the following axioms\n",
            "(i)For any event E,  P  (E) ≥0 (ii) P (S) = 1\n",
            "(iii) If E and F are mutually exclusive events, then P(E ∪ F) = P(E) + P(F).\n",
            "It follows from (iii) that P( φ) = 0. To prove this, we take F = φ and note that E and φ\n",
            "are disjoint events. Therefore, from axiom (iii), we get\n",
            "P (E ∪ φ) = P (E) + P ( φ)or P(E) = P(E) + P ( φ) i.e. P ( φ) = 0.\n",
            "Let S be a sample space containing outcomes 1 2, ,...,n ω ω ω , i.e.,\n",
            "S = { ω1, ω2, ..., ωn}\n",
            "It follows ...\n",
            "\n",
            "You: Domain\n",
            " \n",
            "PDF Bot: Here's what I found: \n",
            "domain is the power set of S and range is the interval [0,1]\n",
            "satisfying the following axioms\n",
            "(i)For any event E,  P  (E) ≥0 (ii) P (S) = 1\n",
            "(iii) If E and F are mutually exclusive events, then P(E ∪ F) = P(E) + P(F).\n",
            "It follows from (iii) that P( φ) = 0. To prove this, we take F = φ and note that E and φ\n",
            "are disjoint events. Therefore, from axiom (iii), we get\n",
            "P (E ∪ φ) = P (E) + P ( φ)or P(E) = P(E) + P ( φ) i.e. P ( φ) = 0.\n",
            "Let S be a sample space containing outcomes 1 2, ,...,n ω ω ω , i.e.,\n",
            "S...\n",
            "\n",
            "You: exit\n",
            " \n",
            "Chat ended. Goodbye!\n"
          ]
        }
      ]
    }
  ],
  "metadata": {
    "colab": {
      "provenance": []
    },
    "kernelspec": {
      "display_name": "Python 3",
      "name": "python3"
    },
    "language_info": {
      "name": "python"
    }
  },
  "nbformat": 4,
  "nbformat_minor": 0
}